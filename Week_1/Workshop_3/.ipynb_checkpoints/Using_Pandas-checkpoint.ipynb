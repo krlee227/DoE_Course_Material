{
 "cells": [
  {
   "cell_type": "markdown",
   "metadata": {},
   "source": [
    "<a href=\"https://colab.research.google.com/github/Teoroo-CMC/DoE_Course_Material/blob/main/Week_1/Workshop_3/Using_Pandas.ipynb\" target=\"_parent\"><img src=\"https://colab.research.google.com/assets/colab-badge.svg\" alt=\"Open In Colab\"/></a>"
   ]
  },
  {
   "cell_type": "markdown",
   "metadata": {},
   "source": [
    "# A few short introductory exercises in NumPy"
   ]
  },
  {
   "cell_type": "code",
   "execution_count": null,
   "metadata": {},
   "outputs": [],
   "source": [
    "import numpy as np\n",
    "\n",
    "# Create a NumPy array\n",
    "data = np.array([1, 2, 3, 4, 5, 6, 7, 8, 9, 10])\n",
    "\n",
    "# Slice the array to get elements from index 2 to 6\n",
    "sliced_data = data[2:7]\n",
    "\n",
    "print(sliced_data)"
   ]
  },
  {
   "cell_type": "code",
   "execution_count": null,
   "metadata": {},
   "outputs": [],
   "source": [
    "# Create a NumPy array\n",
    "data = np.array([1, 2, 3, 4, 5])\n",
    "\n",
    "# Append new data to the array\n",
    "new_data = np.append(data, [6, 7, 8])\n",
    "\n",
    "print(new_data)"
   ]
  },
  {
   "cell_type": "code",
   "execution_count": null,
   "metadata": {},
   "outputs": [],
   "source": [
    "# Initialize an empty array with shape (3, 3)\n",
    "empty_array = np.empty((3, 3))\n",
    "\n",
    "print(empty_array)\n",
    "\n",
    "# Create a NumPy array\n",
    "data = np.array([[1, 2, 3], [4, 5, 6]])\n",
    "\n",
    "# Initialize an array with zeros of the same shape as 'data'\n",
    "zeros_array = np.zeros_like(data)\n",
    "\n",
    "print(zeros_array)"
   ]
  },
  {
   "cell_type": "code",
   "execution_count": null,
   "metadata": {},
   "outputs": [],
   "source": [
    "# Initialize an array using np.arange()\n",
    "arr = np.arange(1, 10, 2)  # Start from 1, end at 10 (exclusive), step size of 2\n",
    "\n",
    "print(arr)\n",
    "\n",
    "# Initialize an array using np.linspace()\n",
    "arr = np.linspace(0, 1, 5)  # Start from 0, end at 1 (inclusive), with 5 equally spaced values\n",
    "\n",
    "print(arr)"
   ]
  },
  {
   "cell_type": "code",
   "execution_count": null,
   "metadata": {},
   "outputs": [],
   "source": [
    "# Create a NumPy array\n",
    "arr = np.array([True, False, True, False])\n",
    "\n",
    "# Check if any element in the array is True\n",
    "result = np.any(arr)\n",
    "\n",
    "print(result)\n",
    "\n",
    "# Check if all elements in the array are True\n",
    "result = np.all(arr)\n",
    "\n",
    "print(result)"
   ]
  },
  {
   "cell_type": "code",
   "execution_count": null,
   "metadata": {},
   "outputs": [],
   "source": [
    "# Create a NumPy array\n",
    "arr = np.array([1, 2, 3, 4, 5])\n",
    "\n",
    "# Find the indices where the elements are greater than 3\n",
    "indices = np.where(arr > 3)\n",
    "\n",
    "print(indices)"
   ]
  },
  {
   "cell_type": "code",
   "execution_count": null,
   "metadata": {},
   "outputs": [],
   "source": [
    "arr_2d = np.arange(12).reshape(3,4)\n",
    "\n",
    "arr_2d"
   ]
  },
  {
   "cell_type": "code",
   "execution_count": null,
   "metadata": {},
   "outputs": [],
   "source": [
    "# some indexing options\n",
    "\n",
    "print(arr_2d[1,2])\n",
    "print(arr_2d[1,:])\n",
    "print(arr_2d[2])\n",
    "print(arr_2d[2:,-2:])\n",
    "print(arr_2d[::2,1::2])"
   ]
  },
  {
   "cell_type": "code",
   "execution_count": null,
   "metadata": {},
   "outputs": [],
   "source": [
    "# Summing over the different axes\n",
    "\n",
    "print(np.sum(arr_2d))\n",
    "print(np.sum(arr_2d, axis=0))\n",
    "print(np.sum(arr_2d, axis=1))"
   ]
  },
  {
   "cell_type": "code",
   "execution_count": null,
   "metadata": {},
   "outputs": [],
   "source": [
    "# concatenating data using hstack and vstack\n",
    "\n",
    "print(np.hstack((arr_2d, np.array([[10],[26],[42]]))))\n",
    "print(np.vstack((arr_2d, np.array([12,14,16,18]))))"
   ]
  },
  {
   "cell_type": "markdown",
   "metadata": {},
   "source": [
    "# Getting to know the Pandas library; Series and DataFrame"
   ]
  },
  {
   "cell_type": "markdown",
   "metadata": {},
   "source": [
    "## Getting to know pandas Series!"
   ]
  },
  {
   "cell_type": "code",
   "execution_count": null,
   "metadata": {},
   "outputs": [],
   "source": [
    "# Initialize the Series and DataFrame separately because they are used so much\n",
    "\n",
    "from pandas import Series, DataFrame\n",
    "import pandas as pd\n",
    "import numpy as np"
   ]
  },
  {
   "cell_type": "code",
   "execution_count": null,
   "metadata": {},
   "outputs": [],
   "source": [
    "# Generate a Series instance with predefined values\n",
    "\n",
    "obj = Series([4, 7, -5, 3])"
   ]
  },
  {
   "cell_type": "code",
   "execution_count": null,
   "metadata": {},
   "outputs": [],
   "source": [
    "print(obj.values)\n",
    "print(obj.index)"
   ]
  },
  {
   "cell_type": "code",
   "execution_count": null,
   "metadata": {},
   "outputs": [],
   "source": [
    "# A Series’s index can be altered in place by assignment:\n",
    "\n",
    "obj.index = ['Bob', 'Steve', 'Jeff', 'Ryan']\n",
    "print(obj)"
   ]
  },
  {
   "cell_type": "code",
   "execution_count": null,
   "metadata": {},
   "outputs": [],
   "source": [
    "# Now generate a series with predefined indices\n",
    "\n",
    "obj2 = Series([4, 7, -5, 3], index=['d', 'b', 'a', 'c'])\n",
    "print(obj2)"
   ]
  },
  {
   "cell_type": "code",
   "execution_count": null,
   "metadata": {},
   "outputs": [],
   "source": [
    "obj2 = Series([4, 7, -5, 3], index=['d', 'b', 'a', 'c'])\n",
    "\n",
    "print(obj2.values)\n",
    "print(obj2.index)"
   ]
  },
  {
   "cell_type": "code",
   "execution_count": null,
   "metadata": {},
   "outputs": [],
   "source": [
    "print(obj2.values)\n",
    "print(obj2.index)"
   ]
  },
  {
   "cell_type": "code",
   "execution_count": null,
   "metadata": {},
   "outputs": [],
   "source": [
    "# Obtain the values by index\n",
    "\n",
    "print(obj2['a'])\n",
    "print(obj2['d'])"
   ]
  },
  {
   "cell_type": "code",
   "execution_count": null,
   "metadata": {},
   "outputs": [],
   "source": [
    "# You can also specify multiple values\n",
    "\n",
    "print(obj2[['c', 'a', 'd']])"
   ]
  },
  {
   "cell_type": "code",
   "execution_count": null,
   "metadata": {},
   "outputs": [],
   "source": [
    "print(obj2['b':'c'])"
   ]
  },
  {
   "cell_type": "code",
   "execution_count": null,
   "metadata": {},
   "outputs": [],
   "source": [
    "# And apply mathematical operations, note that the indices remain unchanged!\n",
    "\n",
    "print(obj2[obj2 > 0])\n",
    "print(obj2 * 2)\n",
    "print(np.exp(obj2))"
   ]
  },
  {
   "cell_type": "code",
   "execution_count": null,
   "metadata": {},
   "outputs": [],
   "source": [
    "# Another way to think about a Series is as a fixed-length, ordered dict, as it is a mapping \n",
    "# of index values to data values. It can be substituted into many functions that expect a dict\n",
    "\n",
    "print('b' in obj2)\n",
    "print('e' in obj2)"
   ]
  },
  {
   "cell_type": "code",
   "execution_count": null,
   "metadata": {},
   "outputs": [],
   "source": [
    "# Should you have data contained in a Python dict, you can create a Series from it by\n",
    "# passing the dict:\n",
    "\n",
    "sdata = {'Ohio': 35000, 'Texas': 71000, 'Oregon': 16000, 'Utah': 5000}\n",
    "obj3 = Series(sdata)\n",
    "\n",
    "print(obj3)"
   ]
  },
  {
   "cell_type": "code",
   "execution_count": null,
   "metadata": {},
   "outputs": [],
   "source": [
    "# In the following case, 3 values found in sdata are placed in the appropriate locations, but since\n",
    "# no value for 'California' is found, it appears as NaN (not a number) which is considered in pandas to mark missing values\n",
    "\n",
    "states = ['California', 'Ohio', 'Oregon', 'Texas']\n",
    "obj4 = Series(sdata, index=states) # Unidentified blocks are filled with NaNs (not a number)\n",
    "\n",
    "print(obj4)"
   ]
  },
  {
   "cell_type": "code",
   "execution_count": null,
   "metadata": {},
   "outputs": [],
   "source": [
    "obj3"
   ]
  },
  {
   "cell_type": "code",
   "execution_count": null,
   "metadata": {},
   "outputs": [],
   "source": [
    "# A critical Series feature for many applications is that it automatically aligns differently indexed data in arithmetic operations:\n",
    "\n",
    "print(obj3 + obj4)"
   ]
  },
  {
   "cell_type": "code",
   "execution_count": null,
   "metadata": {},
   "outputs": [],
   "source": [
    "# Both the Series object itself and its index have a name attribute, which integrates with\n",
    "# other key areas of pandas functionality:\n",
    "\n",
    "obj5 = obj4.copy()\n",
    "obj5.name = 'population'\n",
    "obj5.index.name = 'state'\n",
    "\n",
    "print(obj4)\n",
    "print(obj5)"
   ]
  },
  {
   "cell_type": "markdown",
   "metadata": {},
   "source": [
    "## Getting to know the pandas DataFrame!"
   ]
  },
  {
   "cell_type": "code",
   "execution_count": null,
   "metadata": {},
   "outputs": [],
   "source": [
    "# There are numerous ways to construct a DataFrame, though one of the most common\n",
    "# is from a dict of equal-length lists or NumPy arrays\n",
    "\n",
    "data = {'state': ['Ohio', 'Ohio', 'Ohio', 'Nevada', 'Nevada'],\n",
    " 'year': [2000, 2001, 2002, 2001, 2002],\n",
    " 'pop': [1.5, 1.7, 3.6, 2.4, 2.9]}\n",
    "frame = DataFrame(data)\n",
    "\n",
    "frame # this looks nicer than print(frame) if it's the final / only output of the cell, check it out if you don't believe me"
   ]
  },
  {
   "cell_type": "code",
   "execution_count": null,
   "metadata": {},
   "outputs": [],
   "source": [
    "# If you specify a sequence of columns, the DataFrame’s columns will be exactly what you pass:\n",
    "\n",
    "frame = DataFrame(data, columns=['year', 'state', 'pop'])\n",
    "\n",
    "frame"
   ]
  },
  {
   "cell_type": "code",
   "execution_count": null,
   "metadata": {},
   "outputs": [],
   "source": [
    "# As with Series, if you pass a column that isn’t contained in data, it will appear with NA\n",
    "# values in the result:\n",
    "\n",
    "frame2 = DataFrame(data, columns=['year', 'state', 'pop', 'debt'],\n",
    "    index=['one', 'two', 'three', 'four', 'five'])\n",
    "\n",
    "frame2"
   ]
  },
  {
   "cell_type": "code",
   "execution_count": null,
   "metadata": {},
   "outputs": [],
   "source": [
    "print(frame2.columns)"
   ]
  },
  {
   "cell_type": "code",
   "execution_count": null,
   "metadata": {},
   "outputs": [],
   "source": [
    "# A column in a DataFrame can be retrieved as a Series either by dict-like notation or by attribute:\n",
    "\n",
    "print(frame2['state'])\n",
    "print(frame2.year)\n",
    "\n",
    "# Note that the returned Series have the same index as the DataFrame, and their name\n",
    "# attribute has been appropriately set."
   ]
  },
  {
   "cell_type": "code",
   "execution_count": null,
   "metadata": {},
   "outputs": [],
   "source": [
    "# Two of the more common types of data selection using DataFrames are .loc and .iloc\n",
    "# loc is label-based, which means that you have to specify rows and columns based on their row and column labels.\n",
    "\n",
    "data = DataFrame(np.arange(16).reshape((4, 4)),\n",
    "    index=['Ohio', 'Colorado', 'Utah', 'New York'],\n",
    "    columns=['one', 'two', 'three', 'four'])\n",
    "\n",
    "print(data.loc['Ohio', 'three'])"
   ]
  },
  {
   "cell_type": "code",
   "execution_count": null,
   "metadata": {},
   "outputs": [],
   "source": [
    "# iloc is integer position-based, so you have to specify rows and columns by their integer position values (0-based integer position).\n",
    "\n",
    "print(data.iloc[2, 3])"
   ]
  },
  {
   "cell_type": "code",
   "execution_count": null,
   "metadata": {},
   "outputs": [],
   "source": [
    "# Columns can be modified by assignment. For example, the empty 'debt' column could\n",
    "# be assigned a scalar value or an array of values:\n",
    "\n",
    "frame2['debt'] = 16.5\n",
    "\n",
    "frame2"
   ]
  },
  {
   "cell_type": "code",
   "execution_count": null,
   "metadata": {},
   "outputs": [],
   "source": [
    "frame2['debt'] = np.arange(5.)\n",
    "\n",
    "frame2"
   ]
  },
  {
   "cell_type": "code",
   "execution_count": null,
   "metadata": {},
   "outputs": [],
   "source": [
    "frame2[frame2['pop']>2]"
   ]
  },
  {
   "cell_type": "code",
   "execution_count": null,
   "metadata": {},
   "outputs": [],
   "source": [
    "# When assigning lists or arrays to a column, the value’s length must match the length\n",
    "# of the DataFrame. If you assign a Series, it will be instead conformed exactly to the\n",
    "# DataFrame’s index, inserting missing values in any holes:\n",
    "\n",
    "val = Series([-1.2, -1.5, -1.7], index=['two', 'four', 'five'])\n",
    "frame2['debt'] = val\n",
    "\n",
    "frame2"
   ]
  },
  {
   "cell_type": "code",
   "execution_count": null,
   "metadata": {},
   "outputs": [],
   "source": [
    "# Assigning a column that doesn’t exist will create a new column.\n",
    "\n",
    "frame2['eastern'] = frame2.state == 'Ohio'\n",
    "\n",
    "frame2"
   ]
  },
  {
   "cell_type": "code",
   "execution_count": null,
   "metadata": {},
   "outputs": [],
   "source": [
    "# The del keyword will delete columns as with a dict:\n",
    "\n",
    "del frame2['eastern']"
   ]
  },
  {
   "cell_type": "code",
   "execution_count": null,
   "metadata": {},
   "outputs": [],
   "source": [
    "frame2"
   ]
  },
  {
   "cell_type": "code",
   "execution_count": null,
   "metadata": {},
   "outputs": [],
   "source": [
    "# Another common form of data is a nested dict of dicts format:\n",
    "pop = {'Nevada': {2001: 2.4, 2002: 2.9},\n",
    "    'Ohio': {2000: 1.5, 2001: 1.7, 2002: 3.6}}\n",
    "    \n",
    "# If passed to DataFrame, it will interpret the outer dict keys as the columns and the inner\n",
    "# keys as the row indices:\n",
    "frame3 = DataFrame(pop)    \n",
    "\n",
    "frame3"
   ]
  },
  {
   "cell_type": "code",
   "execution_count": null,
   "metadata": {},
   "outputs": [],
   "source": [
    "# Of course you can always transpose the result:\n",
    "\n",
    "frame3.T"
   ]
  },
  {
   "cell_type": "code",
   "execution_count": null,
   "metadata": {},
   "outputs": [],
   "source": [
    "# The keys in the inner dicts are unioned and sorted to form the index in the result. This\n",
    "# isn’t true if an explicit index is specified:\n",
    "DataFrame(pop, index=[2001, 2002, 2003])"
   ]
  },
  {
   "cell_type": "code",
   "execution_count": null,
   "metadata": {},
   "outputs": [],
   "source": [
    "# Dicts of Series are treated much in the same way:\n",
    "pdata = {'Ohio': frame3['Ohio'][:-1],\n",
    "         'Nevada': frame3['Nevada'][:2]}\n",
    "\n",
    "DataFrame(pdata)"
   ]
  },
  {
   "cell_type": "code",
   "execution_count": null,
   "metadata": {},
   "outputs": [],
   "source": [
    "# If a DataFrame’s index and columns have their name attributes set, these will also be displayed:\n",
    "frame3.index.name = 'year'; frame3.columns.name = 'state'\n",
    "\n",
    "frame3"
   ]
  },
  {
   "cell_type": "code",
   "execution_count": null,
   "metadata": {},
   "outputs": [],
   "source": [
    "# Like Series, the values attribute returns the data contained in the DataFrame as a 2D ndarray:\n",
    "\n",
    "frame3.values"
   ]
  },
  {
   "cell_type": "code",
   "execution_count": null,
   "metadata": {},
   "outputs": [],
   "source": [
    "# If the DataFrame’s columns are different dtypes, the dtype of the values array will be\n",
    "# chosen to accomodate all of the columns:\n",
    "\n",
    "frame2.values"
   ]
  },
  {
   "cell_type": "markdown",
   "metadata": {},
   "source": [
    "## Some subtleties with the Index class"
   ]
  },
  {
   "cell_type": "code",
   "execution_count": null,
   "metadata": {},
   "outputs": [],
   "source": [
    "# pandas’s Index objects are responsible for holding the axis labels and other metadata\n",
    "# (like the axis name or names). Any array or other sequence of labels used when constructing\n",
    "# a Series or DataFrame is internally converted to an Index:\n",
    "\n",
    "obj = Series(range(3), index=['a', 'b', 'c'])\n",
    "index = obj.index\n",
    "\n",
    "# Index objects are immutable and thus can’t be modified by the user:\n",
    "index[-1] = 3"
   ]
  },
  {
   "cell_type": "markdown",
   "metadata": {},
   "source": [
    "## Reindexing"
   ]
  },
  {
   "cell_type": "code",
   "execution_count": null,
   "metadata": {},
   "outputs": [],
   "source": [
    "# A critical method on pandas objects is reindex, which means to create a new object\n",
    "# with the data conformed to a new index. Consider a simple example from above:\n",
    "\n",
    "obj = Series([4.5, 7.2, -5.3, 3.6], index=['d', 'b', 'a', 'c'])\n",
    "\n",
    "# Calling reindex on this Series rearranges the data according to the new index, \n",
    "# introducing missing values if any index values were not already present:\n",
    "obj2 = obj.reindex(['a', 'b', 'c', 'd', 'e'])\n",
    "\n",
    "obj2"
   ]
  },
  {
   "cell_type": "code",
   "execution_count": null,
   "metadata": {},
   "outputs": [],
   "source": [
    "# For ordered data like time series, it may be desirable to do some interpolation or filling\n",
    "# of values when reindexing. The method option allows us to do this, using a method such\n",
    "# as ffill which forward fills the values:\n",
    "\n",
    "obj3 = Series(['blue', 'purple', 'yellow'], index=[0, 2, 4])\n",
    "\n",
    "print(obj3)\n",
    "\n",
    "# forward fitting\n",
    "obj4 = obj3.reindex(range(6), method='ffill')\n",
    "\n",
    "print(obj4)\n",
    "\n",
    "obj5 = obj3.reindex(range(6), method='bfill')\n",
    "\n",
    "print(obj5)"
   ]
  },
  {
   "cell_type": "code",
   "execution_count": null,
   "metadata": {},
   "outputs": [],
   "source": [
    "# With DataFrame, reindex can alter either the (row) index, columns, or both. When\n",
    "# passed just a sequence, the rows are reindexed in the result;\n",
    "\n",
    "frame = DataFrame(np.arange(9).reshape((3, 3)), index=['a', 'c', 'd'],\n",
    "    columns=['Ohio', 'Texas', 'California'])\n",
    "\n",
    "print(frame)\n",
    "\n",
    "frame2 = frame.reindex(['a', 'b', 'c', 'd'])\n",
    "\n",
    "frame2"
   ]
  },
  {
   "cell_type": "code",
   "execution_count": null,
   "metadata": {},
   "outputs": [],
   "source": [
    "# The columns can be reindexed using the columns keyword:\n",
    "\n",
    "states = ['Texas', 'Utah', 'California']\n",
    "frame = frame.reindex(columns=states)\n",
    "\n",
    "print(frame)"
   ]
  },
  {
   "cell_type": "code",
   "execution_count": null,
   "metadata": {},
   "outputs": [],
   "source": [
    "# Both can be reindexed in one shot, though interpolation will only apply row-wise (axis 0):\n",
    "\n",
    "frame = frame.reindex(index=['a', 'b', 'c', 'd'], method='ffill',\n",
    "    columns=states)"
   ]
  },
  {
   "cell_type": "code",
   "execution_count": null,
   "metadata": {},
   "outputs": [],
   "source": [
    "frame"
   ]
  },
  {
   "cell_type": "code",
   "execution_count": null,
   "metadata": {},
   "outputs": [],
   "source": [
    "# Dropping one or more entries from an axis is easy if you have an index array or list\n",
    "# without those entries. As that can require a bit of munging and set logic, the drop\n",
    "# method will return a new object with the indicated value or values deleted from an axis:\n",
    "\n",
    "obj = Series(np.arange(5.), index=['a', 'b', 'c', 'd', 'e'])\n",
    "\n",
    "new_obj = obj.drop('c')\n",
    "\n",
    "new_obj"
   ]
  },
  {
   "cell_type": "code",
   "execution_count": null,
   "metadata": {},
   "outputs": [],
   "source": [
    "# With DataFrame, index values can be deleted from either axis:\n",
    "\n",
    "data = DataFrame(np.arange(16).reshape((4, 4)),\n",
    "    index=['Ohio', 'Colorado', 'Utah', 'New York'],\n",
    "    columns=['one', 'two', 'three', 'four'])\n",
    "\n",
    "data = data.drop(['Colorado', 'Ohio'])\n",
    "data = data.drop(['two', 'four'], axis=1)\n",
    "\n",
    "data"
   ]
  },
  {
   "cell_type": "markdown",
   "metadata": {},
   "source": [
    "## Indexing, selection, and filtering"
   ]
  },
  {
   "cell_type": "code",
   "execution_count": null,
   "metadata": {},
   "outputs": [],
   "source": [
    "# Series indexing (obj[...]) works analogously to NumPy array indexing, except you can\n",
    "# use the Series’s index values instead of only integers. Here are some examples this:\n",
    "\n",
    "obj = Series(np.arange(4.), index=['a', 'b', 'c', 'd'])\n",
    "\n",
    "print(obj['b'])\n",
    "print(obj[1])\n",
    "print(obj[2:4])\n",
    "print(obj[['b', 'a', 'd']])\n",
    "print(obj[[1, 3]])\n",
    "print(obj[obj < 2])"
   ]
  },
  {
   "cell_type": "code",
   "execution_count": null,
   "metadata": {},
   "outputs": [],
   "source": [
    "# Slicing with labels behaves differently than normal Python slicing in that the endpoint\n",
    "# is inclusive:\n",
    "\n",
    "print(obj['b':'c'])"
   ]
  },
  {
   "cell_type": "code",
   "execution_count": null,
   "metadata": {},
   "outputs": [],
   "source": [
    "# Setting using these methods works just as you would expect:\n",
    "\n",
    "obj['b':'c'] = 5\n",
    "\n",
    "print(obj)"
   ]
  },
  {
   "cell_type": "code",
   "execution_count": null,
   "metadata": {},
   "outputs": [],
   "source": [
    "# As you’ve seen above, indexing into a DataFrame is for retrieving one or more columns\n",
    "# either with a single value or sequence:\n",
    "\n",
    "data = DataFrame(np.arange(16).reshape((4, 4)),\n",
    "    index=['Ohio', 'Colorado', 'Utah', 'New York'],\n",
    "    columns=['one', 'two', 'three', 'four'])\n",
    "\n",
    "print(data['two'])\n",
    "print(data[['three', 'one']])"
   ]
  },
  {
   "cell_type": "code",
   "execution_count": null,
   "metadata": {},
   "outputs": [],
   "source": [
    "# Indexing like this has a few special cases. For example selecting rows by slicing or a boolean array:\n",
    "\n",
    "print(data[:2])\n",
    "print(data[data['three'] > 5])"
   ]
  },
  {
   "cell_type": "markdown",
   "metadata": {},
   "source": [
    "## Some final useful commands you might use in working with DataFrames"
   ]
  },
  {
   "cell_type": "markdown",
   "metadata": {},
   "source": [
    "pandas objects are equipped with a set of common mathematical and statistical methods. Most of these fall into the category of reductions or summary statistics, methods that extract a single value (like the sum or mean) from a Series or a Series of values from\n",
    "the rows or columns of a DataFrame."
   ]
  },
  {
   "cell_type": "code",
   "execution_count": null,
   "metadata": {},
   "outputs": [],
   "source": [
    "df = DataFrame([[1.4, np.nan], [7.1, -4.5],\n",
    "    [np.nan, np.nan], [0.75, -1.3]],\n",
    "    index=['a', 'b', 'c', 'd'],\n",
    "    columns=['one', 'two'])\n",
    "\n",
    "df"
   ]
  },
  {
   "cell_type": "code",
   "execution_count": null,
   "metadata": {},
   "outputs": [],
   "source": [
    "# Compared with the equivalent methods of vanilla NumPy arrays, they are all built from the ground up to exclude missing data. \n",
    "# Calling DataFrame’s sum method returns a Series containing column sums:\n",
    "\n",
    "print(df.sum())\n",
    "\n",
    "# Passing axis=1 sums over the rows instead:\n",
    "\n",
    "print(df.sum(axis=1))"
   ]
  },
  {
   "cell_type": "code",
   "execution_count": null,
   "metadata": {},
   "outputs": [],
   "source": [
    "# NA values are excluded unless the entire slice (row or column in this case) is NA. This\n",
    "# can be disabled using the skipna option:\n",
    "\n",
    "print(df.mean(axis=1, skipna=False))"
   ]
  },
  {
   "cell_type": "code",
   "execution_count": null,
   "metadata": {},
   "outputs": [],
   "source": [
    "# Some methods, like argmin and argmax, return index locations\n",
    "# where the minimum or maximum values are attained:\n",
    "\n",
    "print(df.idxmin())\n",
    "\n",
    "# Others give the minimum or maximum values\n",
    "\n",
    "print(df.max())"
   ]
  },
  {
   "cell_type": "markdown",
   "metadata": {},
   "source": [
    "## More advanced statistical analysis on larger datasets"
   ]
  },
  {
   "cell_type": "code",
   "execution_count": null,
   "metadata": {},
   "outputs": [],
   "source": [
    "# Let's import one of seaborn's default datasets which will work nicely with pandas too\n",
    "\n",
    "import seaborn as sns\n",
    "\n",
    "iris = sns.load_dataset(\"iris\")\n",
    "\n",
    "iris"
   ]
  },
  {
   "cell_type": "code",
   "execution_count": null,
   "metadata": {},
   "outputs": [],
   "source": [
    "# The corr method of Series computes the correlation of the overlapping, non-NA,\n",
    "# aligned-by-index values in two Series. Relatedly, cov computes the covariance:\n",
    "\n",
    "iris_setosa = iris[iris['species'] == 'setosa']\n",
    "\n",
    "iris_setosa\n",
    "\n",
    "print(iris.sepal_length.corr(iris.petal_length))\n",
    "print(iris.sepal_length.cov(iris.petal_length))"
   ]
  },
  {
   "cell_type": "code",
   "execution_count": null,
   "metadata": {},
   "outputs": [],
   "source": [
    "# DataFrame’s corr and cov methods, on the other hand, return a full correlation or\n",
    "# covariance matrix as a DataFrame.\n",
    "\n",
    "print(iris.corr())\n",
    "\n",
    "# This doesn't work, we have to filter the strings"
   ]
  },
  {
   "cell_type": "code",
   "execution_count": null,
   "metadata": {},
   "outputs": [],
   "source": [
    "iris_floats = iris[['sepal_length', 'sepal_width', 'petal_length', 'petal_width']]"
   ]
  },
  {
   "cell_type": "code",
   "execution_count": null,
   "metadata": {},
   "outputs": [],
   "source": [
    "print(iris_floats.mean()) # obtain the mean column-wise\n",
    "print(iris_floats.std()) # and the standard deviation"
   ]
  },
  {
   "cell_type": "code",
   "execution_count": null,
   "metadata": {},
   "outputs": [],
   "source": [
    "# a very useful command is the dir command, which gives you an overview of all the attributes and methods associated with an object\n",
    "\n",
    "test_var = 3.0\n",
    "print(dir(test_var))\n",
    "\n",
    "# Neglect the attributes and methods starting with either one or two underscores for now, they are typically hidden, but note that\n",
    "# a float has, amongst others, two attributes real and imag. The overall list is still quite small."
   ]
  },
  {
   "cell_type": "code",
   "execution_count": null,
   "metadata": {},
   "outputs": [],
   "source": [
    "# If you're brave, try to have a look what attributes and methods a typical dataframe has available, you will be surprised! \n",
    "print(dir(iris))"
   ]
  },
  {
   "cell_type": "markdown",
   "metadata": {},
   "source": [
    "# Extra exercises to get familiar with handling larger datasets"
   ]
  },
  {
   "cell_type": "markdown",
   "metadata": {},
   "source": [
    "Feel free to load your own datasets, for example using pd.read_csv if you're data is in csv (comma-separated values) format.\n",
    "Otherwise, feel free to load any of the default seaborn datasets (https://github.com/mwaskom/seaborn-data) to play around with:"
   ]
  },
  {
   "cell_type": "code",
   "execution_count": null,
   "metadata": {},
   "outputs": [],
   "source": [
    "import seaborn as sns\n",
    "\n",
    "# planets = sns.load_dataset(\"planets\")\n",
    "penguins = sns.load_dataset(\"penguins\")\n",
    "# fmri = sns.load_dataset(\"fmri\")\n",
    "\n",
    "# Or any of the other sets available on; https://github.com/mwaskom/seaborn-data\n",
    "\n",
    "penguins"
   ]
  },
  {
   "cell_type": "markdown",
   "metadata": {},
   "source": [
    "* Is there on average a weight difference between penguins from different islands? If so, is it significant?\n",
    "* Is there a correlation between the bill length and bill depth? And with the flipper length?\n",
    "* Bonus points if you can make a few cool plots using some of these datasets!"
   ]
  }
 ],
 "metadata": {
  "kernelspec": {
   "display_name": "Python 3",
   "language": "python",
   "name": "python3"
  },
  "language_info": {
   "codemirror_mode": {
    "name": "ipython",
    "version": 3
   },
   "file_extension": ".py",
   "mimetype": "text/x-python",
   "name": "python",
   "nbconvert_exporter": "python",
   "pygments_lexer": "ipython3",
   "version": "3.8.3"
  }
 },
 "nbformat": 4,
 "nbformat_minor": 5
}
