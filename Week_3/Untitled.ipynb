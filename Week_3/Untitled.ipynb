{
 "cells": [
  {
   "cell_type": "code",
   "execution_count": 1,
   "id": "a6fc6165",
   "metadata": {},
   "outputs": [],
   "source": [
    "import numpy as np\n",
    "from scipy import stats"
   ]
  },
  {
   "cell_type": "code",
   "execution_count": 2,
   "id": "35782c14",
   "metadata": {},
   "outputs": [],
   "source": [
    "data=[0.52508266, 0.09735529, 0.18190318, 0.55766562, 0.37788684, 0.44707692]"
   ]
  },
  {
   "cell_type": "code",
   "execution_count": 3,
   "id": "aae91cf0",
   "metadata": {},
   "outputs": [
    {
     "name": "stdout",
     "output_type": "stream",
     "text": [
      "-1.775161048201416 0.06802008896186788\n"
     ]
    }
   ],
   "source": [
    "t_test, p_value=stats.ttest_1samp(data, popmean=0.5, alternative='less')\n",
    "print(t_test, p_value)"
   ]
  },
  {
   "cell_type": "code",
   "execution_count": 4,
   "id": "4f22b4be",
   "metadata": {},
   "outputs": [],
   "source": [
    "sum_data=sum(data)"
   ]
  },
  {
   "cell_type": "code",
   "execution_count": 5,
   "id": "b04be040",
   "metadata": {},
   "outputs": [
    {
     "data": {
      "text/plain": [
       "2.18697051"
      ]
     },
     "execution_count": 5,
     "metadata": {},
     "output_type": "execute_result"
    }
   ],
   "source": [
    "sum_data"
   ]
  },
  {
   "cell_type": "code",
   "execution_count": 6,
   "id": "3a35c7c2",
   "metadata": {},
   "outputs": [],
   "source": [
    "avg_data=sum_data/6"
   ]
  },
  {
   "cell_type": "code",
   "execution_count": 7,
   "id": "94d9b787",
   "metadata": {},
   "outputs": [
    {
     "data": {
      "text/plain": [
       "0.364495085"
      ]
     },
     "execution_count": 7,
     "metadata": {},
     "output_type": "execute_result"
    }
   ],
   "source": [
    "avg_data"
   ]
  },
  {
   "cell_type": "code",
   "execution_count": 15,
   "id": "2d737094",
   "metadata": {},
   "outputs": [
    {
     "data": {
      "text/plain": [
       "0.24640876438342701"
      ]
     },
     "execution_count": 15,
     "metadata": {},
     "output_type": "execute_result"
    }
   ],
   "source": [
    "avg_data=stats.hmean(data)\n",
    "avg_data"
   ]
  },
  {
   "cell_type": "code",
   "execution_count": 16,
   "id": "5b2c01ea",
   "metadata": {},
   "outputs": [
    {
     "data": {
      "text/plain": [
       "0.3093315625330243"
      ]
     },
     "execution_count": 16,
     "metadata": {},
     "output_type": "execute_result"
    }
   ],
   "source": [
    "avg_data=stats.gmean(data)\n",
    "avg_data"
   ]
  },
  {
   "cell_type": "code",
   "execution_count": 2,
   "id": "de429087",
   "metadata": {},
   "outputs": [
    {
     "ename": "NameError",
     "evalue": "name 'amean' is not defined",
     "output_type": "error",
     "traceback": [
      "\u001b[1;31m---------------------------------------------------------------------------\u001b[0m",
      "\u001b[1;31mNameError\u001b[0m                                 Traceback (most recent call last)",
      "Cell \u001b[1;32mIn[2], line 1\u001b[0m\n\u001b[1;32m----> 1\u001b[0m avg_data\u001b[38;5;241m=\u001b[39m\u001b[43mamean\u001b[49m(data)\n\u001b[0;32m      2\u001b[0m avg_data\n",
      "\u001b[1;31mNameError\u001b[0m: name 'amean' is not defined"
     ]
    }
   ],
   "source": [
    "avg_data=mean(data)\n",
    "avg_data"
   ]
  },
  {
   "cell_type": "code",
   "execution_count": null,
   "id": "11684990",
   "metadata": {},
   "outputs": [],
   "source": []
  }
 ],
 "metadata": {
  "kernelspec": {
   "display_name": "Python 3 (ipykernel)",
   "language": "python",
   "name": "python3"
  },
  "language_info": {
   "codemirror_mode": {
    "name": "ipython",
    "version": 3
   },
   "file_extension": ".py",
   "mimetype": "text/x-python",
   "name": "python",
   "nbconvert_exporter": "python",
   "pygments_lexer": "ipython3",
   "version": "3.10.9"
  }
 },
 "nbformat": 4,
 "nbformat_minor": 5
}
