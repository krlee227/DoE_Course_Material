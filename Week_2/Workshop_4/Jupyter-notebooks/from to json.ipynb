{
 "cells": [
  {
   "cell_type": "code",
   "execution_count": 5,
   "id": "7b9bde05",
   "metadata": {},
   "outputs": [],
   "source": [
    "import pandas as pd\n",
    "df=pd.DataFrame([['a','b'],['c','d']], \n",
    "                index=['row1','row2'], columns=['col1', 'col2'])"
   ]
  },
  {
   "cell_type": "code",
   "execution_count": 6,
   "id": "a34ad5a2",
   "metadata": {},
   "outputs": [
    {
     "data": {
      "text/html": [
       "<div>\n",
       "<style scoped>\n",
       "    .dataframe tbody tr th:only-of-type {\n",
       "        vertical-align: middle;\n",
       "    }\n",
       "\n",
       "    .dataframe tbody tr th {\n",
       "        vertical-align: top;\n",
       "    }\n",
       "\n",
       "    .dataframe thead th {\n",
       "        text-align: right;\n",
       "    }\n",
       "</style>\n",
       "<table border=\"1\" class=\"dataframe\">\n",
       "  <thead>\n",
       "    <tr style=\"text-align: right;\">\n",
       "      <th></th>\n",
       "      <th>col1</th>\n",
       "      <th>col2</th>\n",
       "    </tr>\n",
       "  </thead>\n",
       "  <tbody>\n",
       "    <tr>\n",
       "      <th>row1</th>\n",
       "      <td>a</td>\n",
       "      <td>b</td>\n",
       "    </tr>\n",
       "    <tr>\n",
       "      <th>row2</th>\n",
       "      <td>c</td>\n",
       "      <td>d</td>\n",
       "    </tr>\n",
       "  </tbody>\n",
       "</table>\n",
       "</div>"
      ],
      "text/plain": [
       "     col1 col2\n",
       "row1    a    b\n",
       "row2    c    d"
      ]
     },
     "execution_count": 6,
     "metadata": {},
     "output_type": "execute_result"
    }
   ],
   "source": [
    "df"
   ]
  },
  {
   "cell_type": "code",
   "execution_count": 8,
   "id": "5f91c51a",
   "metadata": {},
   "outputs": [
    {
     "data": {
      "text/plain": [
       "'{\"columns\":[\"col1\",\"col2\"],\"index\":[\"row1\",\"row2\"],\"data\":[[\"a\",\"b\"],[\"c\",\"d\"]]}'"
      ]
     },
     "execution_count": 8,
     "metadata": {},
     "output_type": "execute_result"
    }
   ],
   "source": [
    "df.to_json(orient='split')"
   ]
  },
  {
   "cell_type": "code",
   "execution_count": 9,
   "id": "078f9858",
   "metadata": {},
   "outputs": [
    {
     "data": {
      "text/html": [
       "<div>\n",
       "<style scoped>\n",
       "    .dataframe tbody tr th:only-of-type {\n",
       "        vertical-align: middle;\n",
       "    }\n",
       "\n",
       "    .dataframe tbody tr th {\n",
       "        vertical-align: top;\n",
       "    }\n",
       "\n",
       "    .dataframe thead th {\n",
       "        text-align: right;\n",
       "    }\n",
       "</style>\n",
       "<table border=\"1\" class=\"dataframe\">\n",
       "  <thead>\n",
       "    <tr style=\"text-align: right;\">\n",
       "      <th></th>\n",
       "      <th>col1</th>\n",
       "      <th>col2</th>\n",
       "    </tr>\n",
       "  </thead>\n",
       "  <tbody>\n",
       "    <tr>\n",
       "      <th>row1</th>\n",
       "      <td>a</td>\n",
       "      <td>b</td>\n",
       "    </tr>\n",
       "    <tr>\n",
       "      <th>row2</th>\n",
       "      <td>c</td>\n",
       "      <td>d</td>\n",
       "    </tr>\n",
       "  </tbody>\n",
       "</table>\n",
       "</div>"
      ],
      "text/plain": [
       "     col1 col2\n",
       "row1    a    b\n",
       "row2    c    d"
      ]
     },
     "execution_count": 9,
     "metadata": {},
     "output_type": "execute_result"
    }
   ],
   "source": [
    "pd.read_json(_, orient='split')"
   ]
  },
  {
   "cell_type": "code",
   "execution_count": 10,
   "id": "b41f1d0c",
   "metadata": {},
   "outputs": [
    {
     "data": {
      "text/plain": [
       "'{\"row1\":{\"col1\":\"a\",\"col2\":\"b\"},\"row2\":{\"col1\":\"c\",\"col2\":\"d\"}}'"
      ]
     },
     "execution_count": 10,
     "metadata": {},
     "output_type": "execute_result"
    }
   ],
   "source": [
    "df.to_json(orient='index')"
   ]
  },
  {
   "cell_type": "code",
   "execution_count": 51,
   "id": "f227a1f6",
   "metadata": {},
   "outputs": [],
   "source": [
    "df = pd.read_json('dictionary-f1.json', orient='index')"
   ]
  },
  {
   "cell_type": "code",
   "execution_count": 49,
   "id": "cfafeaea",
   "metadata": {},
   "outputs": [
    {
     "data": {
      "text/html": [
       "<div>\n",
       "<style scoped>\n",
       "    .dataframe tbody tr th:only-of-type {\n",
       "        vertical-align: middle;\n",
       "    }\n",
       "\n",
       "    .dataframe tbody tr th {\n",
       "        vertical-align: top;\n",
       "    }\n",
       "\n",
       "    .dataframe thead th {\n",
       "        text-align: right;\n",
       "    }\n",
       "</style>\n",
       "<table border=\"1\" class=\"dataframe\">\n",
       "  <thead>\n",
       "    <tr style=\"text-align: right;\">\n",
       "      <th></th>\n",
       "      <th>metadata vocabulary</th>\n",
       "      <th>materials vocabulary</th>\n",
       "    </tr>\n",
       "  </thead>\n",
       "  <tbody>\n",
       "    <tr>\n",
       "      <th>data name</th>\n",
       "      <td>{'eng_definition': 'name of the data set, name...</td>\n",
       "      <td>NaN</td>\n",
       "    </tr>\n",
       "    <tr>\n",
       "      <th>contributor</th>\n",
       "      <td>{'eng_definition': 'researcher(s) who provide ...</td>\n",
       "      <td>NaN</td>\n",
       "    </tr>\n",
       "    <tr>\n",
       "      <th>data generation date</th>\n",
       "      <td>{'eng_definition': 'date when the data is adde...</td>\n",
       "      <td>NaN</td>\n",
       "    </tr>\n",
       "    <tr>\n",
       "      <th>keywords</th>\n",
       "      <td>{'eng_definition': 'material type or definitio...</td>\n",
       "      <td>NaN</td>\n",
       "    </tr>\n",
       "    <tr>\n",
       "      <th>material_(n)</th>\n",
       "      <td>NaN</td>\n",
       "      <td>{'eng_definition': 'materials that can be a co...</td>\n",
       "    </tr>\n",
       "  </tbody>\n",
       "</table>\n",
       "</div>"
      ],
      "text/plain": [
       "                                                    metadata vocabulary  \\\n",
       "data name             {'eng_definition': 'name of the data set, name...   \n",
       "contributor           {'eng_definition': 'researcher(s) who provide ...   \n",
       "data generation date  {'eng_definition': 'date when the data is adde...   \n",
       "keywords              {'eng_definition': 'material type or definitio...   \n",
       "material_(n)                                                        NaN   \n",
       "\n",
       "                                                   materials vocabulary  \n",
       "data name                                                           NaN  \n",
       "contributor                                                         NaN  \n",
       "data generation date                                                NaN  \n",
       "keywords                                                            NaN  \n",
       "material_(n)          {'eng_definition': 'materials that can be a co...  "
      ]
     },
     "execution_count": 49,
     "metadata": {},
     "output_type": "execute_result"
    }
   ],
   "source": [
    "df"
   ]
  },
  {
   "cell_type": "code",
   "execution_count": 63,
   "id": "c3ef8046",
   "metadata": {},
   "outputs": [
    {
     "ename": "TypeError",
     "evalue": "NDFrame.to_csv() got an unexpected keyword argument 'orient'",
     "output_type": "error",
     "traceback": [
      "\u001b[1;31m---------------------------------------------------------------------------\u001b[0m",
      "\u001b[1;31mTypeError\u001b[0m                                 Traceback (most recent call last)",
      "Cell \u001b[1;32mIn[63], line 1\u001b[0m\n\u001b[1;32m----> 1\u001b[0m out\u001b[38;5;241m=\u001b[39m\u001b[43mdf\u001b[49m\u001b[38;5;241;43m.\u001b[39;49m\u001b[43mto_csv\u001b[49m\u001b[43m(\u001b[49m\u001b[43morient\u001b[49m\u001b[38;5;241;43m=\u001b[39;49m\u001b[38;5;124;43m'\u001b[39;49m\u001b[38;5;124;43mindex\u001b[39;49m\u001b[38;5;124;43m'\u001b[39;49m\u001b[43m)\u001b[49m\n",
      "File \u001b[1;32m~\\anaconda3\\lib\\site-packages\\pandas\\util\\_decorators.py:211\u001b[0m, in \u001b[0;36mdeprecate_kwarg.<locals>._deprecate_kwarg.<locals>.wrapper\u001b[1;34m(*args, **kwargs)\u001b[0m\n\u001b[0;32m    209\u001b[0m     \u001b[38;5;28;01melse\u001b[39;00m:\n\u001b[0;32m    210\u001b[0m         kwargs[new_arg_name] \u001b[38;5;241m=\u001b[39m new_arg_value\n\u001b[1;32m--> 211\u001b[0m \u001b[38;5;28;01mreturn\u001b[39;00m func(\u001b[38;5;241m*\u001b[39margs, \u001b[38;5;241m*\u001b[39m\u001b[38;5;241m*\u001b[39mkwargs)\n",
      "\u001b[1;31mTypeError\u001b[0m: NDFrame.to_csv() got an unexpected keyword argument 'orient'"
     ]
    }
   ],
   "source": [
    "out=df.to_csv()"
   ]
  },
  {
   "cell_type": "code",
   "execution_count": 61,
   "id": "9a4cab10",
   "metadata": {},
   "outputs": [
    {
     "data": {
      "text/plain": [
       "',data name,contributor,data generation date,keywords,material_(n)\\r\\nmetadata vocabulary,\"{\\'eng_definition\\': \\'name of the data set, named by data provider\\', \\'var_name\\': \\'DataName\\', \\'data_type\\': \\'string\\', \\'data_example\\': \\'Zinc coated Fe-6Mn-3Al steel plate; Ti/Al dissimilar welded joint; Fe/C catalyst; Gd doped MOF 370; LLZO (Li7La3Zr2O12) Solid Electrolyte\\'}\",\"{\\'eng_definition\\': \\'researcher(s) who provide the data\\', \\'var_name\\': \\'Contributor\\', \\'alias\\': \\'\\', \\'name\\': {\\'eng_definition\\': \"\"contibutor\\'s name\"\", \\'var_name\\': \\'Name\\', \\'data_type\\': \\'string (familyname, firstname)\\', \\'data_example\\': \\'Jordan, Mike; Hong, Gil-Dong\\'}, \\'affiliation\\': {\\'eng_definition\\': \"\"contibutor\\'s affliation (insitute\\'s name and further definition of working place)\"\", \\'var_name\\': \\'Affiliation\\', \\'data_type\\': \\'string (free form)\\', \\'data_example\\': \\'Advanced Materials Research Center, KIST; Department of Energy, KAIST; Metallurgy Division, KIMS\\'}, \\'email address\\': {\\'eng_definition\\': \\'contributor’s email address\\', \\'var_name\\': \\'EmailAddress\\', \\'data_type\\': \\'string\\', \\'data_example\\': \\'hayoonlee@kriss.re.kr\\'}, \\'researcher number\\': {\\'eng_definition\\': \\'contributor’s researcher number ID in Integrated R&D Information System of Korea (https://iris.go.kr)\\', \\'var_name\\': \\'ResearcherNumberID\\', \\'data_type\\': \\'string\\', \\'data_example\\': \\'12981649\\'}}\",\"{\\'eng_definition\\': \\'date when the data is added to the present database or data lake\\', \\'var_name\\': \\'DataGenerationDate\\', \\'alias\\': \\'\\', \\'data_type\\': \\'string (Year-Month-date)\\', \\'data_example\\': \\'2021-05-24; 2008-03-01\\'}\",\"{\\'eng_definition\\': \\'material type or definition, keywords representing the data set\\', \\'var_name\\': \\'Keywords\\', \\'data_type\\': \\'string\\', \\'data_example\\': \\'experimental; computational; Li ion battery; carbon nanotube; composite; Al base\\'}\",\\r\\nmaterials vocabulary,,,,,\"{\\'eng_definition\\': \\'materials that can be a component of materials system\\', \\'var_name\\': \\'Material_(n)\\', \\'alias\\': \\'\\', \\'name\\': {\\'eng_definition\\': \\'name of materials according to customary usage, designation system, composition, etc.\\', \\'var_name\\': \\'Name\\', \\'alias\\': \\'\\', \\'data_type\\': \\'string\\', \\'data_example\\': \\'annealed INCONEL625 plate; Al7075-T6; Al10Si5Mg; Fe; CNT; TiO2; Ag; In2O2; LLZO\\'}, \\'chemical information\\': {\\'eng_definition\\': \\'atomic scale information of materials\\', \\'var_name\\': \\'ChemicalInfo\\', \\'alias\\': \\'\\', \\'crystallography\\': {\\'eng_definitionn\\': \\'crystallographic data of the material\\', \\'var_name\\': \\'Crystallography\\', \\'Bravais lattice\\': {\\'eng_definition\\': \\'Name of 14 Bravais lattice\\', \\'var_name\\': \\'BravaisLattice\\', \\'data_type\\': \\'string\\', \\'data_example\\': \\'simple cubic; bodycentered cubit; face centered cubic; primitice hexagonal; primitive rhombohedral; R-centered hexagonal; primitive tetragonal; body cenered tetragonal;  primitive orthorhombic; base centered orthorombic; body centered orthorombic; face centered orthorombic; primitive moniclinic; base center monoclinic; primitive triclinic\\'}}}}\"\\r\\n'"
      ]
     },
     "execution_count": 61,
     "metadata": {},
     "output_type": "execute_result"
    }
   ],
   "source": [
    "out\n"
   ]
  },
  {
   "cell_type": "code",
   "execution_count": null,
   "id": "77b0cfde",
   "metadata": {},
   "outputs": [],
   "source": []
  }
 ],
 "metadata": {
  "kernelspec": {
   "display_name": "Python 3 (ipykernel)",
   "language": "python",
   "name": "python3"
  },
  "language_info": {
   "codemirror_mode": {
    "name": "ipython",
    "version": 3
   },
   "file_extension": ".py",
   "mimetype": "text/x-python",
   "name": "python",
   "nbconvert_exporter": "python",
   "pygments_lexer": "ipython3",
   "version": "3.10.9"
  }
 },
 "nbformat": 4,
 "nbformat_minor": 5
}
