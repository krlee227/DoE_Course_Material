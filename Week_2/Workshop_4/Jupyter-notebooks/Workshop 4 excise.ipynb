{
 "cells": [
  {
   "cell_type": "code",
   "execution_count": 1,
   "id": "7056a954",
   "metadata": {},
   "outputs": [],
   "source": [
    "import pandas as pd\n",
    "import numpy as np\n",
    "from numpy.random import rand"
   ]
  },
  {
   "cell_type": "code",
   "execution_count": 67,
   "id": "98dbed07",
   "metadata": {},
   "outputs": [
    {
     "data": {
      "text/html": [
       "<div>\n",
       "<style scoped>\n",
       "    .dataframe tbody tr th:only-of-type {\n",
       "        vertical-align: middle;\n",
       "    }\n",
       "\n",
       "    .dataframe tbody tr th {\n",
       "        vertical-align: top;\n",
       "    }\n",
       "\n",
       "    .dataframe thead th {\n",
       "        text-align: right;\n",
       "    }\n",
       "</style>\n",
       "<table border=\"1\" class=\"dataframe\">\n",
       "  <thead>\n",
       "    <tr style=\"text-align: right;\">\n",
       "      <th></th>\n",
       "      <th>low</th>\n",
       "      <th>high</th>\n",
       "      <th>label</th>\n",
       "    </tr>\n",
       "    <tr>\n",
       "      <th>index</th>\n",
       "      <th></th>\n",
       "      <th></th>\n",
       "      <th></th>\n",
       "    </tr>\n",
       "  </thead>\n",
       "  <tbody>\n",
       "    <tr>\n",
       "      <th>A</th>\n",
       "      <td>5.0</td>\n",
       "      <td>100</td>\n",
       "      <td>Infill</td>\n",
       "    </tr>\n",
       "    <tr>\n",
       "      <th>B</th>\n",
       "      <td>0.0</td>\n",
       "      <td>90</td>\n",
       "      <td>Orientation</td>\n",
       "    </tr>\n",
       "    <tr>\n",
       "      <th>C</th>\n",
       "      <td>0.2</td>\n",
       "      <td>1</td>\n",
       "      <td>Nozzle Diameter</td>\n",
       "    </tr>\n",
       "  </tbody>\n",
       "</table>\n",
       "</div>"
      ],
      "text/plain": [
       "       low  high            label\n",
       "index                            \n",
       "A      5.0   100           Infill\n",
       "B      0.0    90      Orientation\n",
       "C      0.2     1  Nozzle Diameter"
      ]
     },
     "execution_count": 67,
     "metadata": {},
     "output_type": "execute_result"
    }
   ],
   "source": [
    "inputs_labels={'A':'Infill',\n",
    "                'B': 'Orientation',\n",
    "                'C': 'Nozzle Diameter'}\n",
    "dat=[('A',5,100),('B',0,90),('C',0.2,1)]\n",
    "inputs_df=pd.DataFrame(dat,columns=['index','low','high'])\n",
    "inputs_df=inputs_df.set_index(['index'])\n",
    "inputs_df['label']=inputs_df.index.map(lambda a: inputs_labels[a])\n",
    "\n",
    "inputs_df\n"
   ]
  },
  {
   "cell_type": "code",
   "execution_count": 68,
   "id": "d73079e9",
   "metadata": {},
   "outputs": [
    {
     "data": {
      "text/plain": [
       "index\n",
       "A    52.5\n",
       "B    45.0\n",
       "C     0.6\n",
       "Name: average, dtype: float64"
      ]
     },
     "execution_count": 68,
     "metadata": {},
     "output_type": "execute_result"
    }
   ],
   "source": [
    "inputs_df['average']=inputs_df.apply(lambda z:(z['high']+z['low'])/2, axis=1)\n",
    "\n",
    "inputs_df['average']\n"
   ]
  },
  {
   "cell_type": "code",
   "execution_count": 69,
   "id": "36f6c8b9",
   "metadata": {},
   "outputs": [
    {
     "data": {
      "text/plain": [
       "index\n",
       "A    47.5\n",
       "B    45.0\n",
       "C     0.4\n",
       "Name: span, dtype: float64"
      ]
     },
     "execution_count": 69,
     "metadata": {},
     "output_type": "execute_result"
    }
   ],
   "source": [
    "inputs_df['span']=inputs_df.apply(lambda z:(z['high']-z['low'])/2, axis=1)\n",
    "inputs_df['span']"
   ]
  },
  {
   "cell_type": "code",
   "execution_count": 70,
   "id": "303b8c0f",
   "metadata": {},
   "outputs": [
    {
     "data": {
      "text/plain": [
       "index\n",
       "A   -1.0\n",
       "B   -1.0\n",
       "C   -1.0\n",
       "Name: encoded_low, dtype: float64"
      ]
     },
     "execution_count": 70,
     "metadata": {},
     "output_type": "execute_result"
    }
   ],
   "source": [
    "inputs_df['encoded_low'] = inputs_df.apply( lambda z : ( z['low']  - z['average'] )/( z['span'] ), axis=1)\n",
    "inputs_df['encoded_low']"
   ]
  },
  {
   "cell_type": "code",
   "execution_count": 71,
   "id": "fd68f8e8",
   "metadata": {},
   "outputs": [
    {
     "data": {
      "text/plain": [
       "index\n",
       "A    1.0\n",
       "B    1.0\n",
       "C    1.0\n",
       "Name: encoded_high, dtype: float64"
      ]
     },
     "execution_count": 71,
     "metadata": {},
     "output_type": "execute_result"
    }
   ],
   "source": [
    "inputs_df['encoded_high'] = inputs_df.apply( lambda z : ( z['high']  - z['average'] )/( z['span'] ), axis=1)\n",
    "inputs_df['encoded_high']"
   ]
  },
  {
   "cell_type": "code",
   "execution_count": 73,
   "id": "1f29f094",
   "metadata": {},
   "outputs": [
    {
     "data": {
      "text/html": [
       "<div>\n",
       "<style scoped>\n",
       "    .dataframe tbody tr th:only-of-type {\n",
       "        vertical-align: middle;\n",
       "    }\n",
       "\n",
       "    .dataframe tbody tr th {\n",
       "        vertical-align: top;\n",
       "    }\n",
       "\n",
       "    .dataframe thead th {\n",
       "        text-align: right;\n",
       "    }\n",
       "</style>\n",
       "<table border=\"1\" class=\"dataframe\">\n",
       "  <thead>\n",
       "    <tr style=\"text-align: right;\">\n",
       "      <th></th>\n",
       "      <th>low</th>\n",
       "      <th>high</th>\n",
       "      <th>label</th>\n",
       "      <th>encoded_low</th>\n",
       "      <th>encoded_high</th>\n",
       "    </tr>\n",
       "    <tr>\n",
       "      <th>index</th>\n",
       "      <th></th>\n",
       "      <th></th>\n",
       "      <th></th>\n",
       "      <th></th>\n",
       "      <th></th>\n",
       "    </tr>\n",
       "  </thead>\n",
       "  <tbody>\n",
       "    <tr>\n",
       "      <th>A</th>\n",
       "      <td>5.0</td>\n",
       "      <td>100</td>\n",
       "      <td>Infill</td>\n",
       "      <td>-1.0</td>\n",
       "      <td>1.0</td>\n",
       "    </tr>\n",
       "    <tr>\n",
       "      <th>B</th>\n",
       "      <td>0.0</td>\n",
       "      <td>90</td>\n",
       "      <td>Orientation</td>\n",
       "      <td>-1.0</td>\n",
       "      <td>1.0</td>\n",
       "    </tr>\n",
       "    <tr>\n",
       "      <th>C</th>\n",
       "      <td>0.2</td>\n",
       "      <td>1</td>\n",
       "      <td>Nozzle Diameter</td>\n",
       "      <td>-1.0</td>\n",
       "      <td>1.0</td>\n",
       "    </tr>\n",
       "  </tbody>\n",
       "</table>\n",
       "</div>"
      ],
      "text/plain": [
       "       low  high            label  encoded_low  encoded_high\n",
       "index                                                       \n",
       "A      5.0   100           Infill         -1.0           1.0\n",
       "B      0.0    90      Orientation         -1.0           1.0\n",
       "C      0.2     1  Nozzle Diameter         -1.0           1.0"
      ]
     },
     "execution_count": 73,
     "metadata": {},
     "output_type": "execute_result"
    }
   ],
   "source": [
    "inputs_df=inputs_df.drop(['average','span'], axis=1)\n",
    "inputs_df"
   ]
  },
  {
   "cell_type": "code",
   "execution_count": 74,
   "id": "76dd062e",
   "metadata": {},
   "outputs": [
    {
     "data": {
      "text/plain": [
       "[(-1, -1, -1),\n",
       " (-1, -1, 1),\n",
       " (-1, 1, -1),\n",
       " (-1, 1, 1),\n",
       " (1, -1, -1),\n",
       " (1, -1, 1),\n",
       " (1, 1, -1),\n",
       " (1, 1, 1)]"
      ]
     },
     "execution_count": 74,
     "metadata": {},
     "output_type": "execute_result"
    }
   ],
   "source": [
    "import itertools\n",
    "encoded_inputs=list(itertools.product([-1,1],[-1,1],[-1,1]))\n",
    "encoded_inputs"
   ]
  },
  {
   "cell_type": "code",
   "execution_count": null,
   "id": "2554bf59",
   "metadata": {},
   "outputs": [],
   "source": []
  }
 ],
 "metadata": {
  "kernelspec": {
   "display_name": "Python 3 (ipykernel)",
   "language": "python",
   "name": "python3"
  },
  "language_info": {
   "codemirror_mode": {
    "name": "ipython",
    "version": 3
   },
   "file_extension": ".py",
   "mimetype": "text/x-python",
   "name": "python",
   "nbconvert_exporter": "python",
   "pygments_lexer": "ipython3",
   "version": "3.10.9"
  }
 },
 "nbformat": 4,
 "nbformat_minor": 5
}
