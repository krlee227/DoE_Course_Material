{
 "cells": [
  {
   "cell_type": "code",
   "execution_count": 1,
   "id": "ad13c0de",
   "metadata": {},
   "outputs": [],
   "source": [
    "import itertools as it"
   ]
  },
  {
   "cell_type": "code",
   "execution_count": 2,
   "id": "5f4fc44d",
   "metadata": {},
   "outputs": [
    {
     "data": {
      "text/plain": [
       "[1, 3, 6, 10, 15, 21, 27]"
      ]
     },
     "execution_count": 2,
     "metadata": {},
     "output_type": "execute_result"
    }
   ],
   "source": [
    "list(it.accumulate([1,2,3,4,5,6,6]))"
   ]
  },
  {
   "cell_type": "code",
   "execution_count": 3,
   "id": "f6282889",
   "metadata": {},
   "outputs": [
    {
     "data": {
      "text/plain": [
       "['a', 'b', 'v', 'd', 'e', 'f']"
      ]
     },
     "execution_count": 3,
     "metadata": {},
     "output_type": "execute_result"
    }
   ],
   "source": [
    "list(it.chain('abv','def'))"
   ]
  },
  {
   "cell_type": "code",
   "execution_count": 4,
   "id": "ac4f82ca",
   "metadata": {},
   "outputs": [
    {
     "data": {
      "text/plain": [
       "['A', 'D', 'E']"
      ]
     },
     "execution_count": 4,
     "metadata": {},
     "output_type": "execute_result"
    }
   ],
   "source": [
    "list(it.compress('ABCDEF', [1,0,0,1,1,0]))"
   ]
  },
  {
   "cell_type": "code",
   "execution_count": 6,
   "id": "0df69f11",
   "metadata": {},
   "outputs": [
    {
     "data": {
      "text/plain": [
       "[(4,), (5,), (6,)]"
      ]
     },
     "execution_count": 6,
     "metadata": {},
     "output_type": "execute_result"
    }
   ],
   "source": [
    "list(it.product([4,5,6]))"
   ]
  },
  {
   "cell_type": "code",
   "execution_count": 11,
   "id": "0b5be70f",
   "metadata": {},
   "outputs": [
    {
     "data": {
      "text/plain": [
       "[('A', 'B'),\n",
       " ('A', 'C'),\n",
       " ('A', 'D'),\n",
       " ('B', 'A'),\n",
       " ('B', 'C'),\n",
       " ('B', 'D'),\n",
       " ('C', 'A'),\n",
       " ('C', 'B'),\n",
       " ('C', 'D'),\n",
       " ('D', 'A'),\n",
       " ('D', 'B'),\n",
       " ('D', 'C')]"
      ]
     },
     "execution_count": 11,
     "metadata": {},
     "output_type": "execute_result"
    }
   ],
   "source": [
    "list(it.permutations('ABCD', 2))"
   ]
  },
  {
   "cell_type": "code",
   "execution_count": 18,
   "id": "c7ef4539",
   "metadata": {},
   "outputs": [
    {
     "data": {
      "text/plain": [
       "[('A', 'B'), ('B', 'C'), ('C', 'D'), ('D', 'E'), ('E', 'F'), ('F', 'G')]"
      ]
     },
     "execution_count": 18,
     "metadata": {},
     "output_type": "execute_result"
    }
   ],
   "source": [
    "list(it.pairwise('ABCDEFG'))"
   ]
  },
  {
   "cell_type": "code",
   "execution_count": 25,
   "id": "c16501e4",
   "metadata": {},
   "outputs": [
    {
     "data": {
      "text/plain": [
       "[32]"
      ]
     },
     "execution_count": 25,
     "metadata": {},
     "output_type": "execute_result"
    }
   ],
   "source": [
    "list(it.starmap(pow,[(2,5)]))"
   ]
  },
  {
   "cell_type": "code",
   "execution_count": 47,
   "id": "c3e574c0",
   "metadata": {},
   "outputs": [
    {
     "data": {
      "text/plain": [
       "[3, 7, 13, 15, 16, 25, 25, 32, 37, 45]"
      ]
     },
     "execution_count": 47,
     "metadata": {},
     "output_type": "execute_result"
    }
   ],
   "source": [
    "list(it.accumulate([3,4,6,2,1,9,0,7,5,8]))"
   ]
  },
  {
   "cell_type": "code",
   "execution_count": null,
   "id": "50fb1813",
   "metadata": {},
   "outputs": [],
   "source": []
  }
 ],
 "metadata": {
  "kernelspec": {
   "display_name": "Python 3 (ipykernel)",
   "language": "python",
   "name": "python3"
  },
  "language_info": {
   "codemirror_mode": {
    "name": "ipython",
    "version": 3
   },
   "file_extension": ".py",
   "mimetype": "text/x-python",
   "name": "python",
   "nbconvert_exporter": "python",
   "pygments_lexer": "ipython3",
   "version": "3.10.9"
  }
 },
 "nbformat": 4,
 "nbformat_minor": 5
}
